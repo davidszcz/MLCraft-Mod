{
 "cells": [
  {
   "cell_type": "code",
   "execution_count": 6,
   "id": "initial_id",
   "metadata": {
    "collapsed": true,
    "ExecuteTime": {
     "end_time": "2024-04-23T17:39:51.049886700Z",
     "start_time": "2024-04-23T17:39:49.733846900Z"
    }
   },
   "outputs": [],
   "source": [
    "import struct\n",
    "from math import sqrt\n",
    "\n",
    "import numpy as np\n",
    "\n",
    "file = open(\"in/mc_data\", mode=\"rb\").read()\n",
    "\n",
    "file = [struct.unpack(\">h\", file[i:i+2])[0] for i in range(0, len(file), 2)]"
   ]
  },
  {
   "cell_type": "code",
   "outputs": [],
   "source": [
    "from helper import iter_square\n",
    "\n",
    "total = len(file)\n",
    "length = int(sqrt(total))\n",
    "\n",
    "arr = np.zeros(shape=(length, length), dtype=float)\n",
    "\n",
    "for (x,y) in iter_square(length):\n",
    "    i = x*length+y\n",
    "    \n",
    "    arr[x][y] = file[i]"
   ],
   "metadata": {
    "collapsed": false,
    "ExecuteTime": {
     "end_time": "2024-04-23T17:39:55.846303200Z",
     "start_time": "2024-04-23T17:39:52.945784Z"
    }
   },
   "id": "15d748384f294336",
   "execution_count": 7
  },
  {
   "cell_type": "code",
   "outputs": [],
   "source": [
    "from helper import NxN\n",
    "\n",
    "arr = NxN(arr).to_png(\"out/mc\")"
   ],
   "metadata": {
    "collapsed": false,
    "ExecuteTime": {
     "end_time": "2024-04-23T17:40:04.011987400Z",
     "start_time": "2024-04-23T17:39:57.384744900Z"
    }
   },
   "id": "b9fc68621c6acdd4",
   "execution_count": 8
  },
  {
   "cell_type": "code",
   "outputs": [
    {
     "name": "stderr",
     "output_type": "stream",
     "text": [
      "100%|██████████| 2116/2116.0 [00:16<00:00, 130.87it/s]\n"
     ]
    }
   ],
   "source": [
    "from tqdm import tqdm\n",
    "\n",
    "i = 0\n",
    "for (xi, yi) in tqdm(iter_square(arr.len, steps=32), total=(arr.len**2/32**2)):\n",
    "    arr.copy(xi, yi, 32).to_png(f\"out/mc/{i}\")\n",
    "    i += 1"
   ],
   "metadata": {
    "collapsed": false,
    "ExecuteTime": {
     "end_time": "2024-04-23T17:43:27.355069700Z",
     "start_time": "2024-04-23T17:43:11.159714600Z"
    }
   },
   "id": "804b9c73f4f8a824",
   "execution_count": 12
  }
 ],
 "metadata": {
  "kernelspec": {
   "display_name": "Python 3",
   "language": "python",
   "name": "python3"
  },
  "language_info": {
   "codemirror_mode": {
    "name": "ipython",
    "version": 2
   },
   "file_extension": ".py",
   "mimetype": "text/x-python",
   "name": "python",
   "nbconvert_exporter": "python",
   "pygments_lexer": "ipython2",
   "version": "2.7.6"
  }
 },
 "nbformat": 4,
 "nbformat_minor": 5
}
